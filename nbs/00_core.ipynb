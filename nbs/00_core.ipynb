{
 "cells": [
  {
   "attachments": {},
   "cell_type": "markdown",
   "metadata": {},
   "source": [
    "# core \n",
    "\n",
    "> modifying streamlit methods to play nice with jupyter\n",
    "\n",
    "Currently streamlit expects to find itself in a standalone python script, and will not work in a jupyter notebook. This is because streamlit is a web app, and jupyter notebooks are not.\n",
    "\n",
    "To get around this, we can use the `get_ipython` method to check if we are in a jupyter notebook, and if so, we can use the `display` method to display the streamlit app in the notebook.\n",
    "\n",
    "This allows us to interactively code in our jupyter notebook and see how our streamlit app will look in real time."
   ]
  },
  {
   "cell_type": "code",
   "execution_count": 1,
   "metadata": {},
   "outputs": [],
   "source": [
    "# | default_exp core"
   ]
  },
  {
   "cell_type": "code",
   "execution_count": 2,
   "metadata": {},
   "outputs": [],
   "source": [
    "# | export\n",
    "\n",
    "import logging\n",
    "import time\n",
    "import typing as tp\n",
    "\n",
    "import streamlit\n",
    "from fastcore.basics import in_ipython, listify, noop, patch, patch_to\n",
    "from fastcore.test import test_fail, test_eq\n",
    "from IPython.utils.capture import capture_output\n",
    "from nbdev.showdoc import show_doc\n",
    "\n",
    "\n",
    "import functools\n",
    "\n",
    "import IPython.display"
   ]
  },
  {
   "cell_type": "code",
   "execution_count": 3,
   "metadata": {},
   "outputs": [],
   "source": [
    "# | export\n",
    "\n",
    "# module obljects that we will be importing\n",
    "IN_IPYTHON = in_ipython()"
   ]
  },
  {
   "cell_type": "code",
   "execution_count": 4,
   "metadata": {},
   "outputs": [],
   "source": [
    "assert IN_IPYTHON, \"This module is intended to be used in a Jupyter notebook\""
   ]
  },
  {
   "cell_type": "code",
   "execution_count": 5,
   "metadata": {},
   "outputs": [],
   "source": [
    "# | export\n",
    "import inspect\n",
    "\n",
    "\n",
    "class StreamlitPatcher:\n",
    "    \"\"\"class to patch streamlit functions for displaying content in jupyter notebooks\"\"\"\n",
    "\n",
    "    def __init__(self):\n",
    "        self.is_registered: bool = False\n",
    "        self.registered_methods: tp.Set[str] = set()\n",
    "\n",
    "    def jupyter(self):\n",
    "        \"\"\"\n",
    "        Registers the current `tqdm` class with\n",
    "            streamlit.\n",
    "            ( write\n",
    "              markdown\n",
    "\n",
    "            )\n",
    "        \"\"\"\n",
    "        # patch streamlit methods from MAPPING property dict\n",
    "        for method_name, wrapper in self.MAPPING.items():\n",
    "            self._wrap(method_name, wrapper)\n",
    "\n",
    "        # patch stqdm\n",
    "\n",
    "        self.is_registered = True\n",
    "\n",
    "    @staticmethod\n",
    "    def _get_streamlit_methods():\n",
    "        \"\"\"get all streamlit methods\"\"\"\n",
    "        return [attr for attr in dir(st) if not attr.startswith(\"_\")]"
   ]
  },
  {
   "cell_type": "code",
   "execution_count": null,
   "metadata": {},
   "outputs": [],
   "source": []
  },
  {
   "attachments": {},
   "cell_type": "markdown",
   "metadata": {},
   "source": [
    "## _wrap method to patch streamlit methods"
   ]
  },
  {
   "cell_type": "code",
   "execution_count": 6,
   "metadata": {},
   "outputs": [],
   "source": [
    "p = functools.partial(print, end=\"\")"
   ]
  },
  {
   "cell_type": "code",
   "execution_count": null,
   "metadata": {},
   "outputs": [],
   "source": []
  },
  {
   "cell_type": "code",
   "execution_count": 7,
   "metadata": {},
   "outputs": [],
   "source": [
    "# | exporti\n",
    "@patch_to(StreamlitPatcher, cls_method=False)\n",
    "def _wrap(cls, method_name: str, wrapper: tp.Callable, forced_wrapper_name: tp.Optional[str] = '') -> None:\n",
    "    \"\"\"make a streamlit method jupyter friendly\n",
    "\n",
    "    Parameters\n",
    "    ----------\n",
    "    method_name : str\n",
    "        which method to jupyterify\n",
    "    wrapper : tp.Callable\n",
    "        wrapper function to use\n",
    "    \"\"\"\n",
    "    if IN_IPYTHON:  # only patch if in jupyter\n",
    "        if hasattr(wrapper, \"__name__\"):\n",
    "            print(f\"wrapping 'streamlit.{method_name}' with 'streamlit_jupyter.core.{wrapper.__name__}'\")\n",
    "        else:\n",
    "            print(f\"wrapping 'streamlit.{method_name}' with 'streamlit_jupyter.core.{wrapper}'\")\n",
    "\n",
    "        trg = getattr(streamlit, method_name)\n",
    "        setattr(streamlit, method_name, wrapper(trg))\n",
    "        cls.registered_methods.add(method_name)\n",
    "    else:  # otherwise do nothing\n",
    "        pass"
   ]
  },
  {
   "cell_type": "code",
   "execution_count": 8,
   "metadata": {},
   "outputs": [],
   "source": [
    "sp = StreamlitPatcher()\n",
    "\n",
    "assert not sp.is_registered, \"StreamlitPatcher is already registered\""
   ]
  },
  {
   "cell_type": "code",
   "execution_count": 9,
   "metadata": {},
   "outputs": [
    {
     "data": {
      "text/markdown": [
       "---\n",
       "\n",
       "[source](https://github.com/ddobrinskiy/streamlit-jupyter/blob/master/streamlit_jupyter/core.py#L61){target=\"_blank\" style=\"float:right; font-size:smaller\"}\n",
       "\n",
       "### StreamlitPatcher._wrap\n",
       "\n",
       ">      StreamlitPatcher._wrap (cls, method_name:str, wrapper:Callable,\n",
       ">                              forced_wrapper_name:Union[str,NoneType]='')\n",
       "\n",
       "make a streamlit method jupyter friendly\n",
       "\n",
       "|    | **Type** | **Default** | **Details** |\n",
       "| -- | -------- | ----------- | ----------- |\n",
       "| cls |  |  |  |\n",
       "| method_name | str |  | which method to jupyterify |\n",
       "| wrapper | typing.Callable |  | wrapper function to use |\n",
       "| forced_wrapper_name | typing.Union[str, NoneType] |  |  |\n",
       "| **Returns** | **None** |  |  |"
      ],
      "text/plain": [
       "---\n",
       "\n",
       "[source](https://github.com/ddobrinskiy/streamlit-jupyter/blob/master/streamlit_jupyter/core.py#L61){target=\"_blank\" style=\"float:right; font-size:smaller\"}\n",
       "\n",
       "### StreamlitPatcher._wrap\n",
       "\n",
       ">      StreamlitPatcher._wrap (cls, method_name:str, wrapper:Callable,\n",
       ">                              forced_wrapper_name:Union[str,NoneType]='')\n",
       "\n",
       "make a streamlit method jupyter friendly\n",
       "\n",
       "|    | **Type** | **Default** | **Details** |\n",
       "| -- | -------- | ----------- | ----------- |\n",
       "| cls |  |  |  |\n",
       "| method_name | str |  | which method to jupyterify |\n",
       "| wrapper | typing.Callable |  | wrapper function to use |\n",
       "| forced_wrapper_name | typing.Union[str, NoneType] |  |  |\n",
       "| **Returns** | **None** |  |  |"
      ]
     },
     "execution_count": 9,
     "metadata": {},
     "output_type": "execute_result"
    }
   ],
   "source": [
    "show_doc(StreamlitPatcher._wrap)"
   ]
  },
  {
   "attachments": {},
   "cell_type": "markdown",
   "metadata": {},
   "source": [
    "## Modifying streamlit\n",
    "\n",
    "The way we will modify streamlit methods is by putting them through a decorator. This decorator will check if we are in a jupyter notebook, and if so, it will take the input and display it in the notebook. \n",
    "\n",
    "Else it will use the original streamlit method."
   ]
  },
  {
   "attachments": {},
   "cell_type": "markdown",
   "metadata": {},
   "source": [
    "### patching streamlit.write"
   ]
  },
  {
   "cell_type": "code",
   "execution_count": 10,
   "metadata": {},
   "outputs": [],
   "source": [
    "# | exporti\n",
    "\n",
    "def _display(arg: tp.Any) -> None:\n",
    "    if isinstance(arg, str):\n",
    "        IPython.display.display(IPython.display.Markdown(arg))\n",
    "    else:\n",
    "        IPython.display.display(arg)\n",
    "\n",
    "\n",
    "def _st_write(func_to_decorate):\n",
    "    \"\"\"Decorator to display objects passed to Streamlit in Jupyter notebooks.\"\"\"\n",
    "\n",
    "    @functools.wraps(func_to_decorate)\n",
    "    def wrapper(*args, **kwargs):\n",
    "        for arg in args:\n",
    "            _display(arg)\n",
    "\n",
    "    return wrapper"
   ]
  },
  {
   "cell_type": "code",
   "execution_count": 11,
   "metadata": {},
   "outputs": [
    {
     "name": "stdout",
     "output_type": "stream",
     "text": [
      "wrapping 'streamlit.write' with 'streamlit_jupyter.core._st_write'\n"
     ]
    },
    {
     "data": {
      "text/markdown": [
       "hello"
      ],
      "text/plain": [
       "<IPython.core.display.Markdown object>"
      ]
     },
     "metadata": {},
     "output_type": "display_data"
    }
   ],
   "source": [
    "sp._wrap(\"write\", _st_write)\n",
    "\n",
    "with capture_output() as cap:\n",
    "    streamlit.write(\"hello\")\n",
    "    got = cap._outputs[0][\"data\"]\n",
    "\n",
    "expected = {\n",
    "    \"text/plain\": \"<IPython.core.display.Markdown object>\",\n",
    "    \"text/markdown\": \"hello\",\n",
    "}\n",
    "assert got == expected, \"check that the output is correct\"\n",
    "\n",
    "streamlit.write(\"hello\")"
   ]
  },
  {
   "cell_type": "code",
   "execution_count": 12,
   "metadata": {},
   "outputs": [
    {
     "data": {
      "text/markdown": [
       "This is **bold** text in markdown"
      ],
      "text/plain": [
       "<IPython.core.display.Markdown object>"
      ]
     },
     "metadata": {},
     "output_type": "display_data"
    }
   ],
   "source": [
    "streamlit.write(\"This is **bold** text in markdown\")"
   ]
  },
  {
   "cell_type": "code",
   "execution_count": 13,
   "metadata": {},
   "outputs": [
    {
     "data": {
      "text/html": [
       "<div>\n",
       "<style scoped>\n",
       "    .dataframe tbody tr th:only-of-type {\n",
       "        vertical-align: middle;\n",
       "    }\n",
       "\n",
       "    .dataframe tbody tr th {\n",
       "        vertical-align: top;\n",
       "    }\n",
       "\n",
       "    .dataframe thead th {\n",
       "        text-align: right;\n",
       "    }\n",
       "</style>\n",
       "<table border=\"1\" class=\"dataframe\">\n",
       "  <thead>\n",
       "    <tr style=\"text-align: right;\">\n",
       "      <th></th>\n",
       "      <th>a</th>\n",
       "      <th>b</th>\n",
       "    </tr>\n",
       "  </thead>\n",
       "  <tbody>\n",
       "    <tr>\n",
       "      <th>0</th>\n",
       "      <td>1</td>\n",
       "      <td>4</td>\n",
       "    </tr>\n",
       "    <tr>\n",
       "      <th>1</th>\n",
       "      <td>2</td>\n",
       "      <td>5</td>\n",
       "    </tr>\n",
       "    <tr>\n",
       "      <th>2</th>\n",
       "      <td>3</td>\n",
       "      <td>6</td>\n",
       "    </tr>\n",
       "  </tbody>\n",
       "</table>\n",
       "</div>"
      ],
      "text/plain": [
       "   a  b\n",
       "0  1  4\n",
       "1  2  5\n",
       "2  3  6"
      ]
     },
     "metadata": {},
     "output_type": "display_data"
    }
   ],
   "source": [
    "try:\n",
    "    import pandas as pd\n",
    "\n",
    "    df = pd.DataFrame({\"a\": [1, 2, 3], \"b\": [4, 5, 6]})\n",
    "    streamlit.write(df)\n",
    "except ImportError:\n",
    "    logger.warning(\"Pandas not installed, skipping test\")"
   ]
  },
  {
   "cell_type": "code",
   "execution_count": 14,
   "metadata": {},
   "outputs": [],
   "source": [
    "assert sp.registered_methods == {\"write\"}, \"check that the method is registered\""
   ]
  },
  {
   "attachments": {},
   "cell_type": "markdown",
   "metadata": {},
   "source": [
    "### patching headings\n",
    "\n",
    "- `streamlittitle`\n",
    "- `streamlit.header`\n",
    "- `streamlitsubheader`"
   ]
  },
  {
   "cell_type": "code",
   "execution_count": 15,
   "metadata": {},
   "outputs": [],
   "source": [
    "# | exporti\n",
    "def _st_heading(func_to_decorate: tp.Callable, tag: str) -> tp.Callable:\n",
    "    \"\"\"Decorator to display objects passed to Streamlit in Jupyter notebooks.\"\"\"\n",
    "\n",
    "    @functools.wraps(func_to_decorate)\n",
    "    def wrapper(*args, **kwargs):\n",
    "        if len(args) == 1:\n",
    "            body = args[0]\n",
    "        elif len(args) == 2:\n",
    "            body, anchor = args\n",
    "        elif len(args) > 2:\n",
    "            raise ValueError(\n",
    "                f\"Too many positional arguments: {len(args)}, {func_to_decorate.__name__} only accepts 2\"\n",
    "            )\n",
    "        elif len(args) == 0:\n",
    "            if \"body\" not in kwargs:\n",
    "                raise ValueError(\n",
    "                    f\"Missing required argument: body, {func_to_decorate.__name__} requires a body\"\n",
    "                )\n",
    "            body = kwargs[\"body\"]\n",
    "\n",
    "        if isinstance(body, str):\n",
    "            _display(f\"{tag} {body}\")\n",
    "        else:\n",
    "            raise TypeError(\n",
    "                f\"Unsupported type: {type(body)}, {func_to_decorate.__name__} only accepts strings\"\n",
    "            )\n",
    "\n",
    "    return wrapper"
   ]
  },
  {
   "cell_type": "code",
   "execution_count": 25,
   "metadata": {},
   "outputs": [
    {
     "name": "stdout",
     "output_type": "stream",
     "text": [
      "wrapping 'streamlit.title' with 'streamlit_jupyter.core.functools.partial(<function _st_heading at 0x12f5bcdc0>, tag='#')'\n",
      "wrapping 'streamlit.header' with 'streamlit_jupyter.core.functools.partial(<function _st_heading at 0x12f5bcdc0>, tag='##')'\n",
      "wrapping 'streamlit.subheader' with 'streamlit_jupyter.core.functools.partial(<function _st_heading at 0x12f5bcdc0>, tag='###')'\n"
     ]
    }
   ],
   "source": [
    "sp = StreamlitPatcher()\n",
    "sp._wrap('title', functools.partial(_st_heading, tag=\"#\"))\n",
    "sp._wrap('header', functools.partial(_st_heading, tag=\"##\"))\n",
    "sp._wrap('subheader', functools.partial(_st_heading, tag=\"###\"))"
   ]
  },
  {
   "cell_type": "code",
   "execution_count": 26,
   "metadata": {},
   "outputs": [],
   "source": [
    "with capture_output() as cap:\n",
    "    streamlit.title(\"foo\")\n",
    "    got = cap._outputs[0][\"data\"]['text/markdown']\n",
    "\n",
    "test_eq(got, '# foo')"
   ]
  },
  {
   "cell_type": "code",
   "execution_count": 27,
   "metadata": {},
   "outputs": [],
   "source": [
    "with capture_output() as cap:\n",
    "    streamlit.header(\"foo\")\n",
    "    got = cap._outputs[0][\"data\"]['text/markdown']\n",
    "\n",
    "test_eq(got, '## foo')"
   ]
  },
  {
   "cell_type": "code",
   "execution_count": 28,
   "metadata": {},
   "outputs": [],
   "source": [
    "with capture_output() as cap:\n",
    "    streamlit.subheader(\"foo\")\n",
    "    got = cap._outputs[0][\"data\"]['text/markdown']\n",
    "\n",
    "test_eq(got, '### foo')"
   ]
  },
  {
   "cell_type": "code",
   "execution_count": null,
   "metadata": {},
   "outputs": [],
   "source": [
    "# these should fail\n",
    "\n",
    "test_fail(lambda: streamlit.title(df), contains=\"Unsupported type\")\n",
    "test_fail(lambda: streamlit.header(df), contains=\"Unsupported type\")\n",
    "test_fail(lambda: streamlit.subheader(df), contains=\"Unsupported type\")\n",
    "test_fail(lambda: streamlit.subheader(1), contains=\"Unsupported type\")"
   ]
  },
  {
   "attachments": {},
   "cell_type": "markdown",
   "metadata": {},
   "source": [
    "### patch some methods to simply display the input in jupyter "
   ]
  },
  {
   "cell_type": "code",
   "execution_count": 24,
   "metadata": {},
   "outputs": [],
   "source": [
    "# | exporti\n",
    "def _st_type_check(\n",
    "    func_to_decorate: tp.Callable, allowed_types: tp.Union[tp.Type , tp.Collection[tp.Type]]\n",
    ") -> tp.Callable:\n",
    "    \"\"\"Decorator to display objects passed to Streamlit in Jupyter notebooks.\"\"\"\n",
    "    allowed_types = listify(allowed_types)  # make sure it's a list\n",
    "\n",
    "    @functools.wraps(func_to_decorate)\n",
    "    def wrapper(*args, **kwargs):\n",
    "        if len(args) == 1:\n",
    "            body = args[0]\n",
    "        elif len(args) > 1:\n",
    "            raise ValueError(\n",
    "                f\"Too many positional arguments: {len(args)}, {func_to_decorate.__name__} only accepts 2\"\n",
    "            )\n",
    "        elif len(args) == 0:\n",
    "            if kwargs:\n",
    "                raise NotImplementedError(\n",
    "                    f\"kwargs not supported yet, 'streamlit_data_science.utils._wrap_st_type_check' only accepts positional arguments\"\n",
    "                )\n",
    "            else:\n",
    "                raise ValueError(f\"at least one positional argument is required\")\n",
    "\n",
    "        if type(body) in allowed_types:\n",
    "            _display(body)\n",
    "        else:\n",
    "            raise TypeError(\n",
    "                f\"Unsupported type: {type(body)}, {func_to_decorate.__name__} only accepts {allowed_types}\"\n",
    "            )\n",
    "\n",
    "    if IN_IPYTHON:\n",
    "        return wrapper\n",
    "    else:\n",
    "        return func_to_decorate"
   ]
  },
  {
   "cell_type": "code",
   "execution_count": 29,
   "metadata": {},
   "outputs": [
    {
     "name": "stdout",
     "output_type": "stream",
     "text": [
      "wrapping 'streamlit.markdown' with 'streamlit_jupyter.core.functools.partial(<function _st_type_check at 0x16c1544c0>, allowed_types=<class 'str'>)'\n"
     ]
    }
   ],
   "source": []
  },
  {
   "cell_type": "code",
   "execution_count": 31,
   "metadata": {},
   "outputs": [
    {
     "name": "stdout",
     "output_type": "stream",
     "text": [
      "wrapping 'streamlit.markdown' with 'streamlit_jupyter.core.functools.partial(<function _st_type_check at 0x16c1544c0>, allowed_types=<class 'str'>)'\n"
     ]
    },
    {
     "data": {
      "text/markdown": [
       "This is **bold** text in markdown"
      ],
      "text/plain": [
       "<IPython.core.display.Markdown object>"
      ]
     },
     "metadata": {},
     "output_type": "display_data"
    }
   ],
   "source": [
    "sp._wrap('markdown', functools.partial(_st_type_check, allowed_types=str))\n",
    "\n",
    "test_fail(lambda: streamlit.markdown(df), contains=\"Unsupported type\")\n",
    "streamlit.markdown(\"This is **bold** text in markdown\")"
   ]
  },
  {
   "cell_type": "code",
   "execution_count": null,
   "metadata": {},
   "outputs": [],
   "source": [
    "assert 0, 'stop here'"
   ]
  },
  {
   "attachments": {},
   "cell_type": "markdown",
   "metadata": {},
   "source": [
    "### StreamlitPatcher.MAPPING\n",
    "\n",
    "Mapping is a dictionary that maps the streamlit method to the method we want to use instead.\n",
    "\n",
    "This is used when StreamlitPatcher.jupyter() is called."
   ]
  },
  {
   "cell_type": "code",
   "execution_count": null,
   "metadata": {},
   "outputs": [],
   "source": [
    "# | exporti\n",
    "@patch_to(StreamlitPatcher, as_prop=True)\n",
    "def MAPPING(cls) -> tp.Dict[str, tp.Callable]:\n",
    "    \"\"\"mapping of streamlit methods to their jupyter friendly versions\"\"\"\n",
    "    return {\n",
    "        \"write\": _st_write,\n",
    "        \"title\": functools.partial(_st_heading, tag=\"#\"),\n",
    "        'header': functools.partial(_st_heading, tag=\"##\"),\n",
    "        'subheader': functools.partial(_st_heading, tag=\"###\"),  \n",
    "        'markdown': functools.partial(_st_type_check, allowed_types=str),\n",
    "        'dataframe': functools.partial(_st_type_check, allowed_types=pd.DataFrame),\n",
    "         } "
   ]
  },
  {
   "cell_type": "code",
   "execution_count": 32,
   "metadata": {},
   "outputs": [
    {
     "data": {
      "text/plain": [
       "<bound method DataFrameSelectorMixin.dataframe of DeltaGenerator(_root_container=0, _provided_cursor=None, _parent=None, _block_type=None, _form_data=None)>"
      ]
     },
     "execution_count": 32,
     "metadata": {},
     "output_type": "execute_result"
    }
   ],
   "source": [
    "streamlit.dataframe"
   ]
  },
  {
   "cell_type": "code",
   "execution_count": null,
   "metadata": {},
   "outputs": [],
   "source": [
    "sp = StreamlitPatcher()"
   ]
  },
  {
   "cell_type": "code",
   "execution_count": null,
   "metadata": {},
   "outputs": [
    {
     "data": {
      "text/plain": [
       "{'write': <function __main__._st_write(func_to_decorate)>,\n",
       " 'title': functools.partial(<function _st_heading at 0x1279cae50>, tag='#')}"
      ]
     },
     "execution_count": 124,
     "metadata": {},
     "output_type": "execute_result"
    }
   ],
   "source": [
    "sp.MAPPING"
   ]
  },
  {
   "attachments": {},
   "cell_type": "markdown",
   "metadata": {},
   "source": [
    "## Calling tqdm as tqdm.notebook or stqdm depending on environment"
   ]
  },
  {
   "cell_type": "code",
   "execution_count": null,
   "metadata": {},
   "outputs": [],
   "source": [
    "# | export\n",
    "if IN_IPYTHON:\n",
    "    from tqdm.notebook import tqdm\n",
    "else:\n",
    "    from stqdm import stqdm as tqdm\n",
    "\n",
    "tqdm = tqdm  # make this available in the module namespace"
   ]
  },
  {
   "cell_type": "code",
   "execution_count": null,
   "metadata": {},
   "outputs": [
    {
     "data": {
      "application/vnd.jupyter.widget-view+json": {
       "model_id": "7312c5a439b6425aabff283778e75cf9",
       "version_major": 2,
       "version_minor": 0
      },
      "text/plain": [
       "  0%|          | 0/10 [00:00<?, ?it/s]"
      ]
     },
     "metadata": {},
     "output_type": "display_data"
    }
   ],
   "source": [
    "for i in tqdm(range(10)):\n",
    "    pass"
   ]
  },
  {
   "attachments": {},
   "cell_type": "markdown",
   "metadata": {},
   "source": [
    "# OLD CODE"
   ]
  },
  {
   "attachments": {},
   "cell_type": "markdown",
   "metadata": {},
   "source": [
    "## streamlitcache\n",
    "\n",
    "The `streamlitcache` method is used to cache the output of a function. This is useful for functions that take a long time to run, and we want to avoid running them every time we run the app.\n",
    "\n",
    "If we are in a jupyter notebook, we can't use the `streamlitcache` method, so we will replace the `streamlitcache` method with a dummy method that does nothing."
   ]
  },
  {
   "cell_type": "code",
   "execution_count": null,
   "metadata": {},
   "outputs": [],
   "source": [
    "def _dummy_wrapper_noop(func_to_decorate):\n",
    "    @functools.wraps(func_to_decorate)\n",
    "    def wrapper(*args, **kwargs):\n",
    "        return noop  # castrate the function to do nothing\n",
    "\n",
    "    if IN_IPYTHON:\n",
    "        return wrapper\n",
    "    else:\n",
    "        return func_to_decorate\n",
    "\n",
    "\n",
    "streamlitcache = _dummy_wrapper_noop(streamlitcache)"
   ]
  },
  {
   "cell_type": "code",
   "execution_count": null,
   "metadata": {},
   "outputs": [],
   "source": [
    "# verify that during patching we didn't change the name or docstring\n",
    "assert streamlitcache.__name__ == \"cache\"\n",
    "assert \"@streamlitcache\" in tp.cast(\n",
    "    str, streamlitcache.__doc__\n",
    "), \"check that the docstring is correct\""
   ]
  },
  {
   "cell_type": "code",
   "execution_count": null,
   "metadata": {},
   "outputs": [
    {
     "data": {
      "text/markdown": [
       "Getting data..."
      ],
      "text/plain": [
       "<IPython.core.display.Markdown object>"
      ]
     },
     "metadata": {},
     "output_type": "display_data"
    },
    {
     "data": {
      "application/vnd.jupyter.widget-view+json": {
       "model_id": "bcd01686861745508dd81dd9017cb478",
       "version_major": 2,
       "version_minor": 0
      },
      "text/plain": [
       "  0%|          | 0/5 [00:00<?, ?it/s]"
      ]
     },
     "metadata": {},
     "output_type": "display_data"
    },
    {
     "data": {
      "text/html": [
       "<div>\n",
       "<style scoped>\n",
       "    .dataframe tbody tr th:only-of-type {\n",
       "        vertical-align: middle;\n",
       "    }\n",
       "\n",
       "    .dataframe tbody tr th {\n",
       "        vertical-align: top;\n",
       "    }\n",
       "\n",
       "    .dataframe thead th {\n",
       "        text-align: right;\n",
       "    }\n",
       "</style>\n",
       "<table border=\"1\" class=\"dataframe\">\n",
       "  <thead>\n",
       "    <tr style=\"text-align: right;\">\n",
       "      <th></th>\n",
       "      <th>c</th>\n",
       "      <th>d</th>\n",
       "    </tr>\n",
       "  </thead>\n",
       "  <tbody>\n",
       "    <tr>\n",
       "      <th>0</th>\n",
       "      <td>7</td>\n",
       "      <td>10</td>\n",
       "    </tr>\n",
       "    <tr>\n",
       "      <th>1</th>\n",
       "      <td>8</td>\n",
       "      <td>11</td>\n",
       "    </tr>\n",
       "    <tr>\n",
       "      <th>2</th>\n",
       "      <td>9</td>\n",
       "      <td>12</td>\n",
       "    </tr>\n",
       "  </tbody>\n",
       "</table>\n",
       "</div>"
      ],
      "text/plain": [
       "   c   d\n",
       "0  7  10\n",
       "1  8  11\n",
       "2  9  12"
      ]
     },
     "metadata": {},
     "output_type": "display_data"
    }
   ],
   "source": [
    "# test caching\n",
    "\n",
    "\n",
    "@streamlitcache(suppress_st_warning=True)\n",
    "def get_data():\n",
    "    streamlit.write(\"Getting data...\")\n",
    "    for i in tqdm(range(5)):\n",
    "        time.sleep(0.1)\n",
    "    return pd.DataFrame({\"c\": [7, 8, 9], \"d\": [10, 11, 12]})\n",
    "\n",
    "\n",
    "df = get_data()\n",
    "streamlit.write(df)"
   ]
  },
  {
   "cell_type": "code",
   "execution_count": null,
   "metadata": {},
   "outputs": [
    {
     "data": {
      "text/markdown": [
       "Getting data..."
      ],
      "text/plain": [
       "<IPython.core.display.Markdown object>"
      ]
     },
     "metadata": {},
     "output_type": "display_data"
    },
    {
     "data": {
      "application/vnd.jupyter.widget-view+json": {
       "model_id": "85ff4e60648c461299e38d274af346bc",
       "version_major": 2,
       "version_minor": 0
      },
      "text/plain": [
       "  0%|          | 0/5 [00:00<?, ?it/s]"
      ]
     },
     "metadata": {},
     "output_type": "display_data"
    }
   ],
   "source": [
    "# test that the cache in jupyter does not affect get_data\n",
    "\n",
    "df = get_data()\n",
    "with capture_output() as cap:\n",
    "    streamlit.write(df)\n",
    "    got = cap._outputs[0][\"data\"]\n",
    "\n",
    "expected = {\n",
    "    \"text/plain\": \"   c   d\\n0  7  10\\n1  8  11\\n2  9  12\",\n",
    "    \"text/html\": '<div>\\n<style scoped>\\n    .dataframe tbody tr th:only-of-type {\\n        vertical-align: middle;\\n    }\\n\\n    .dataframe tbody tr th {\\n        vertical-align: top;\\n    }\\n\\n    .dataframe thead th {\\n        text-align: right;\\n    }\\n</style>\\n<table border=\"1\" class=\"dataframe\">\\n  <thead>\\n    <tr style=\"text-align: right;\">\\n      <th></th>\\n      <th>c</th>\\n      <th>d</th>\\n    </tr>\\n  </thead>\\n  <tbody>\\n    <tr>\\n      <th>0</th>\\n      <td>7</td>\\n      <td>10</td>\\n    </tr>\\n    <tr>\\n      <th>1</th>\\n      <td>8</td>\\n      <td>11</td>\\n    </tr>\\n    <tr>\\n      <th>2</th>\\n      <td>9</td>\\n      <td>12</td>\\n    </tr>\\n  </tbody>\\n</table>\\n</div>',\n",
    "}\n",
    "\n",
    "assert got == expected, \"check that the output is correct\""
   ]
  },
  {
   "cell_type": "code",
   "execution_count": null,
   "metadata": {},
   "outputs": [],
   "source": [
    "# patch streamlitexpander to display in jupyter\n",
    "\n",
    "\n",
    "class _DummyExpander:\n",
    "    def __init__(self, label: str, expanded: bool = False):\n",
    "        self.label = label\n",
    "        self.expanded = expanded\n",
    "\n",
    "    def __enter__(self):\n",
    "        _display(f\">**expander starts**: {self.label}\")\n",
    "\n",
    "    def __exit__(self, *args):\n",
    "        _display(f\">**expander ends**\")\n",
    "        pass\n",
    "\n",
    "\n",
    "if IN_IPYTHON:\n",
    "    streamlitexpander = _DummyExpander  # type: ignore"
   ]
  },
  {
   "cell_type": "code",
   "execution_count": null,
   "metadata": {},
   "outputs": [
    {
     "data": {
      "text/markdown": [
       ">**expander starts**: Expand me!"
      ],
      "text/plain": [
       "<IPython.core.display.Markdown object>"
      ]
     },
     "metadata": {},
     "output_type": "display_data"
    },
    {
     "data": {
      "text/markdown": [
       "\n",
       "    The **#30DaysOfStreamlit** is a coding challenge designed to help you get started in building Streamlit apps.\n",
       "    \n",
       "    Particularly, you'll be able to:\n",
       "    - Set up a coding environment for building Streamlit apps\n",
       "    - Build your first Streamlit app\n",
       "    - Learn about all the awesome input/output widgets to use for your Streamlit app\n",
       "    "
      ],
      "text/plain": [
       "<IPython.core.display.Markdown object>"
      ]
     },
     "metadata": {},
     "output_type": "display_data"
    },
    {
     "data": {
      "text/markdown": [
       ">**expander ends**"
      ],
      "text/plain": [
       "<IPython.core.display.Markdown object>"
      ]
     },
     "metadata": {},
     "output_type": "display_data"
    }
   ],
   "source": [
    "with streamlitexpander(\"Expand me!\"):\n",
    "    streamlitmarkdown(\n",
    "        \"\"\"\n",
    "    The **#30DaysOfStreamlit** is a coding challenge designed to help you get started in building Streamlit apps.\n",
    "    \n",
    "    Particularly, you'll be able to:\n",
    "    - Set up a coding environment for building Streamlit apps\n",
    "    - Build your first Streamlit app\n",
    "    - Learn about all the awesome input/output widgets to use for your Streamlit app\n",
    "    \"\"\"\n",
    "    )"
   ]
  },
  {
   "attachments": {},
   "cell_type": "markdown",
   "metadata": {},
   "source": [
    "## Interactive Methods\n"
   ]
  },
  {
   "cell_type": "code",
   "execution_count": null,
   "metadata": {},
   "outputs": [],
   "source": [
    "def _st_text_input(func_to_decorate):\n",
    "    \"\"\"Decorator to display objects passed to Streamlit in Jupyter notebooks.\"\"\"\n",
    "\n",
    "    @functools.wraps(func_to_decorate)\n",
    "    def wrapper(*args, **kwargs):\n",
    "        if len(args) == 2:\n",
    "            label, default = args\n",
    "        elif len(args) == 1:\n",
    "            label = args[0]\n",
    "            default = kwargs[\"value\"] if kwargs else input(f\"{label}: \")\n",
    "        else:\n",
    "            raise ValueError(\n",
    "                f\"Too many positional arguments: {len(args)}, {func_to_decorate.__name__} only accepts 2\"\n",
    "            )\n",
    "\n",
    "        streamlit.write(\n",
    "            f\"\"\"```\n",
    "############################################        \n",
    "#       TEXT INPUT FIELD                   #\n",
    "#                                          #\n",
    "#   {label}: {default:<21} #\n",
    "############################################        \n",
    "\"\"\"\n",
    "        )\n",
    "\n",
    "    if IN_IPYTHON:\n",
    "        return wrapper\n",
    "    else:\n",
    "        return func_to_decorate\n",
    "\n",
    "\n",
    "streamlittext_input = _st_text_input(streamlittext_input)"
   ]
  },
  {
   "cell_type": "code",
   "execution_count": null,
   "metadata": {},
   "outputs": [
    {
     "data": {
      "text/markdown": [
       "```\n",
       "############################################        \n",
       "#       TEXT INPUT FIELD                   #\n",
       "#                                          #\n",
       "#   Enter some text: default text          #\n",
       "############################################        \n"
      ],
      "text/plain": [
       "<IPython.core.display.Markdown object>"
      ]
     },
     "metadata": {},
     "output_type": "display_data"
    }
   ],
   "source": [
    "streamlittext_input(\"Enter some text\", \"default text\")"
   ]
  },
  {
   "cell_type": "code",
   "execution_count": null,
   "metadata": {},
   "outputs": [
    {
     "data": {
      "text/markdown": [
       "```\n",
       "############################################        \n",
       "#       TEXT INPUT FIELD                   #\n",
       "#                                          #\n",
       "#   Enter some text: foobar                #\n",
       "############################################        \n"
      ],
      "text/plain": [
       "<IPython.core.display.Markdown object>"
      ]
     },
     "metadata": {},
     "output_type": "display_data"
    }
   ],
   "source": [
    "streamlittext_input(\"Enter some text\", value=\"foobar\")"
   ]
  },
  {
   "cell_type": "code",
   "execution_count": null,
   "metadata": {},
   "outputs": [],
   "source": [
    "# | notest\n",
    "# streamlittext_input(\"Enter some text\")"
   ]
  },
  {
   "cell_type": "code",
   "execution_count": null,
   "metadata": {},
   "outputs": [],
   "source": [
    "# | hide\n",
    "import nbdev\n",
    "\n",
    "nbdev.nbdev_export()"
   ]
  }
 ],
 "metadata": {
  "kernelspec": {
   "display_name": "streamlit-jupyter-lqlnUict",
   "language": "python",
   "name": "python3"
  },
  "language_info": {
   "codemirror_mode": {
    "name": "ipython",
    "version": 3
   },
   "file_extension": ".py",
   "mimetype": "text/x-python",
   "name": "python",
   "nbconvert_exporter": "python",
   "pygments_lexer": "ipython3",
   "version": "3.8.16"
  },
  "vscode": {
   "interpreter": {
    "hash": "b6ff95381c780e3419cbc37a2ed3180441888ce6a744f28bbc9e6d385d4b46b2"
   }
  }
 },
 "nbformat": 4,
 "nbformat_minor": 2
}
