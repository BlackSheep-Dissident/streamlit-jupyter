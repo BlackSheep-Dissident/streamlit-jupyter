{
 "cells": [
  {
   "attachments": {},
   "cell_type": "markdown",
   "metadata": {},
   "source": [
    "# example \n",
    "\n",
    "> example of using streamlit in a jupyter notebook"
   ]
  },
  {
   "cell_type": "code",
   "execution_count": null,
   "metadata": {},
   "outputs": [],
   "source": [
    "# | default_exp example"
   ]
  },
  {
   "cell_type": "code",
   "execution_count": null,
   "metadata": {},
   "outputs": [],
   "source": [
    "# | exporti\n",
    "\n",
    "from datetime import datetime\n",
    "\n",
    "import streamlit as st\n",
    "\n",
    "from streamlit_jupyter import StreamlitPatcher, tqdm"
   ]
  },
  {
   "cell_type": "code",
   "execution_count": null,
   "metadata": {},
   "outputs": [],
   "source": [
    "sp = StreamlitPatcher()\n",
    "sp.jupyter()"
   ]
  },
  {
   "cell_type": "code",
   "execution_count": null,
   "metadata": {},
   "outputs": [],
   "source": [
    "# | exporti\n",
    "\n",
    "st.title(\"Example\")"
   ]
  },
  {
   "cell_type": "code",
   "execution_count": null,
   "metadata": {},
   "outputs": [],
   "source": [
    "# | exporti\n",
    "\n",
    "st.markdown(\"\"\"\n",
    "\n",
    "This is a test page demonstrating the use of `streamlit_jupyter`.\n",
    "\n",
    "If you're seeing this in jupyter, then it's working!\n",
    "\n",
    "\"\"\")"
   ]
  },
  {
   "cell_type": "code",
   "execution_count": null,
   "metadata": {},
   "outputs": [],
   "source": [
    "sp.registered_methods"
   ]
  },
  {
   "cell_type": "code",
   "execution_count": null,
   "metadata": {},
   "outputs": [],
   "source": [
    "# | exporti\n",
    "date = st.date_input(\"Choose a date\", datetime.now())"
   ]
  },
  {
   "cell_type": "code",
   "execution_count": null,
   "metadata": {},
   "outputs": [],
   "source": [
    "# | exporti\n",
    "import time\n",
    "import pandas as pd\n",
    "\n",
    "@st.cache(suppress_st_warning=True)\n",
    "def get_data(date):\n",
    "    for i in tqdm(range(20)):\n",
    "        time.sleep(0.1)\n",
    "    return pd.DataFrame({\"date\": [date]*3, \"c\": [7, 8, 9], \"d\": [10, 11, 12]}).set_index(\"date\")\n",
    "\n",
    "\n",
    "df = get_data(date)\n",
    "st.write(df)"
   ]
  },
  {
   "cell_type": "code",
   "execution_count": null,
   "metadata": {},
   "outputs": [],
   "source": [
    "# | exporti\n",
    "\n",
    "st.code(\"print(1+1)\", language='python')"
   ]
  },
  {
   "cell_type": "code",
   "execution_count": null,
   "metadata": {},
   "outputs": [],
   "source": [
    "# | exporti\n",
    "\n",
    "show_code = st.checkbox(\"Show code\", value=True)"
   ]
  },
  {
   "cell_type": "code",
   "execution_count": null,
   "metadata": {},
   "outputs": [],
   "source": [
    "# | exporti\n",
    "\n",
    "if show_code:\n",
    "    st.code(\"[i**2 for i in range(100)]\")"
   ]
  },
  {
   "cell_type": "code",
   "execution_count": null,
   "metadata": {},
   "outputs": [],
   "source": [
    "# | exporti\n",
    "\n",
    "st.radio(\"Choose one option\", options=[\"foo\", \"bar\"], index=1)"
   ]
  },
  {
   "cell_type": "code",
   "execution_count": null,
   "metadata": {},
   "outputs": [],
   "source": [
    "# | exporti\n",
    "\n",
    "st.selectbox(\"Selectbox: \", options=['Jane', 'Bob', 'Alice'])"
   ]
  },
  {
   "cell_type": "code",
   "execution_count": 23,
   "metadata": {},
   "outputs": [
    {
     "name": "stderr",
     "output_type": "stream",
     "text": [
      "2023-01-05 00:37:02.707 \n",
      "  \u001b[33m\u001b[1mWarning:\u001b[0m to view this Streamlit app on a browser, run it with the following\n",
      "  command:\n",
      "\n",
      "    streamlit run /Users/ddobrinskiy/.local/share/virtualenvs/streamlit-jupyter-lqlnUict/lib/python3.8/site-packages/ipykernel_launcher.py [ARGUMENTS]\n"
     ]
    },
    {
     "data": {
      "text/plain": [
       "[]"
      ]
     },
     "execution_count": 23,
     "metadata": {},
     "output_type": "execute_result"
    }
   ],
   "source": [
    "# | exporti\n",
    "\n",
    "st.multiselect(\"Multiselect: \", options=['python', 'golang', 'julia', 'rust'])"
   ]
  },
  {
   "cell_type": "code",
   "execution_count": 24,
   "metadata": {},
   "outputs": [
    {
     "name": "stdout",
     "output_type": "stream",
     "text": [
      "\u001b[0;31mSignature:\u001b[0m\n",
      "\u001b[0mst\u001b[0m\u001b[0;34m.\u001b[0m\u001b[0mmultiselect\u001b[0m\u001b[0;34m(\u001b[0m\u001b[0;34m\u001b[0m\n",
      "\u001b[0;34m\u001b[0m    \u001b[0mlabel\u001b[0m\u001b[0;34m:\u001b[0m \u001b[0mstr\u001b[0m\u001b[0;34m,\u001b[0m\u001b[0;34m\u001b[0m\n",
      "\u001b[0;34m\u001b[0m    \u001b[0moptions\u001b[0m\u001b[0;34m:\u001b[0m \u001b[0mUnion\u001b[0m\u001b[0;34m[\u001b[0m\u001b[0mIterable\u001b[0m\u001b[0;34m[\u001b[0m\u001b[0;34m~\u001b[0m\u001b[0mT\u001b[0m\u001b[0;34m]\u001b[0m\u001b[0;34m,\u001b[0m \u001b[0mstreamlit\u001b[0m\u001b[0;34m.\u001b[0m\u001b[0mtype_util\u001b[0m\u001b[0;34m.\u001b[0m\u001b[0mDataFrameGenericAlias\u001b[0m\u001b[0;34m[\u001b[0m\u001b[0;34m~\u001b[0m\u001b[0mT\u001b[0m\u001b[0;34m]\u001b[0m\u001b[0;34m]\u001b[0m\u001b[0;34m,\u001b[0m\u001b[0;34m\u001b[0m\n",
      "\u001b[0;34m\u001b[0m    \u001b[0mdefault\u001b[0m\u001b[0;34m:\u001b[0m \u001b[0mUnion\u001b[0m\u001b[0;34m[\u001b[0m\u001b[0mAny\u001b[0m\u001b[0;34m,\u001b[0m \u001b[0mNoneType\u001b[0m\u001b[0;34m]\u001b[0m \u001b[0;34m=\u001b[0m \u001b[0;32mNone\u001b[0m\u001b[0;34m,\u001b[0m\u001b[0;34m\u001b[0m\n",
      "\u001b[0;34m\u001b[0m    \u001b[0mformat_func\u001b[0m\u001b[0;34m:\u001b[0m \u001b[0mCallable\u001b[0m\u001b[0;34m[\u001b[0m\u001b[0;34m[\u001b[0m\u001b[0mAny\u001b[0m\u001b[0;34m]\u001b[0m\u001b[0;34m,\u001b[0m \u001b[0mAny\u001b[0m\u001b[0;34m]\u001b[0m \u001b[0;34m=\u001b[0m \u001b[0;34m<\u001b[0m\u001b[0;32mclass\u001b[0m \u001b[0;34m'str'\u001b[0m\u001b[0;34m>\u001b[0m\u001b[0;34m,\u001b[0m\u001b[0;34m\u001b[0m\n",
      "\u001b[0;34m\u001b[0m    \u001b[0mkey\u001b[0m\u001b[0;34m:\u001b[0m \u001b[0mUnion\u001b[0m\u001b[0;34m[\u001b[0m\u001b[0mstr\u001b[0m\u001b[0;34m,\u001b[0m \u001b[0mint\u001b[0m\u001b[0;34m,\u001b[0m \u001b[0mNoneType\u001b[0m\u001b[0;34m]\u001b[0m \u001b[0;34m=\u001b[0m \u001b[0;32mNone\u001b[0m\u001b[0;34m,\u001b[0m\u001b[0;34m\u001b[0m\n",
      "\u001b[0;34m\u001b[0m    \u001b[0mhelp\u001b[0m\u001b[0;34m:\u001b[0m \u001b[0mUnion\u001b[0m\u001b[0;34m[\u001b[0m\u001b[0mstr\u001b[0m\u001b[0;34m,\u001b[0m \u001b[0mNoneType\u001b[0m\u001b[0;34m]\u001b[0m \u001b[0;34m=\u001b[0m \u001b[0;32mNone\u001b[0m\u001b[0;34m,\u001b[0m\u001b[0;34m\u001b[0m\n",
      "\u001b[0;34m\u001b[0m    \u001b[0mon_change\u001b[0m\u001b[0;34m:\u001b[0m \u001b[0mUnion\u001b[0m\u001b[0;34m[\u001b[0m\u001b[0mCallable\u001b[0m\u001b[0;34m[\u001b[0m\u001b[0;34m...\u001b[0m\u001b[0;34m,\u001b[0m \u001b[0mNoneType\u001b[0m\u001b[0;34m]\u001b[0m\u001b[0;34m,\u001b[0m \u001b[0mNoneType\u001b[0m\u001b[0;34m]\u001b[0m \u001b[0;34m=\u001b[0m \u001b[0;32mNone\u001b[0m\u001b[0;34m,\u001b[0m\u001b[0;34m\u001b[0m\n",
      "\u001b[0;34m\u001b[0m    \u001b[0margs\u001b[0m\u001b[0;34m:\u001b[0m \u001b[0mUnion\u001b[0m\u001b[0;34m[\u001b[0m\u001b[0mTuple\u001b[0m\u001b[0;34m[\u001b[0m\u001b[0mAny\u001b[0m\u001b[0;34m,\u001b[0m \u001b[0;34m...\u001b[0m\u001b[0;34m]\u001b[0m\u001b[0;34m,\u001b[0m \u001b[0mNoneType\u001b[0m\u001b[0;34m]\u001b[0m \u001b[0;34m=\u001b[0m \u001b[0;32mNone\u001b[0m\u001b[0;34m,\u001b[0m\u001b[0;34m\u001b[0m\n",
      "\u001b[0;34m\u001b[0m    \u001b[0mkwargs\u001b[0m\u001b[0;34m:\u001b[0m \u001b[0mUnion\u001b[0m\u001b[0;34m[\u001b[0m\u001b[0mDict\u001b[0m\u001b[0;34m[\u001b[0m\u001b[0mstr\u001b[0m\u001b[0;34m,\u001b[0m \u001b[0mAny\u001b[0m\u001b[0;34m]\u001b[0m\u001b[0;34m,\u001b[0m \u001b[0mNoneType\u001b[0m\u001b[0;34m]\u001b[0m \u001b[0;34m=\u001b[0m \u001b[0;32mNone\u001b[0m\u001b[0;34m,\u001b[0m\u001b[0;34m\u001b[0m\n",
      "\u001b[0;34m\u001b[0m    \u001b[0;34m*\u001b[0m\u001b[0;34m,\u001b[0m\u001b[0;34m\u001b[0m\n",
      "\u001b[0;34m\u001b[0m    \u001b[0mdisabled\u001b[0m\u001b[0;34m:\u001b[0m \u001b[0mbool\u001b[0m \u001b[0;34m=\u001b[0m \u001b[0;32mFalse\u001b[0m\u001b[0;34m,\u001b[0m\u001b[0;34m\u001b[0m\n",
      "\u001b[0;34m\u001b[0m    \u001b[0mlabel_visibility\u001b[0m\u001b[0;34m:\u001b[0m \u001b[0mLiteral\u001b[0m\u001b[0;34m[\u001b[0m\u001b[0;34m'visible'\u001b[0m\u001b[0;34m,\u001b[0m \u001b[0;34m'hidden'\u001b[0m\u001b[0;34m,\u001b[0m \u001b[0;34m'collapsed'\u001b[0m\u001b[0;34m]\u001b[0m \u001b[0;34m=\u001b[0m \u001b[0;34m'visible'\u001b[0m\u001b[0;34m,\u001b[0m\u001b[0;34m\u001b[0m\n",
      "\u001b[0;34m\u001b[0m    \u001b[0mmax_selections\u001b[0m\u001b[0;34m:\u001b[0m \u001b[0mUnion\u001b[0m\u001b[0;34m[\u001b[0m\u001b[0mint\u001b[0m\u001b[0;34m,\u001b[0m \u001b[0mNoneType\u001b[0m\u001b[0;34m]\u001b[0m \u001b[0;34m=\u001b[0m \u001b[0;32mNone\u001b[0m\u001b[0;34m,\u001b[0m\u001b[0;34m\u001b[0m\n",
      "\u001b[0;34m\u001b[0m\u001b[0;34m)\u001b[0m \u001b[0;34m->\u001b[0m \u001b[0mList\u001b[0m\u001b[0;34m[\u001b[0m\u001b[0;34m~\u001b[0m\u001b[0mT\u001b[0m\u001b[0;34m]\u001b[0m\u001b[0;34m\u001b[0m\u001b[0;34m\u001b[0m\u001b[0m\n",
      "\u001b[0;31mDocstring:\u001b[0m\n",
      "Display a multiselect widget.\n",
      "The multiselect widget starts as empty.\n",
      "\n",
      "Parameters\n",
      "----------\n",
      "label : str\n",
      "    A short label explaining to the user what this select widget is for.\n",
      "    The label can optionally contain Markdown and supports the following\n",
      "    elements: Bold, Italics, Strikethroughs, Inline Code, Emojis, and Links.\n",
      "\n",
      "    This also supports:\n",
      "\n",
      "    * Emoji shortcodes, such as ``:+1:``  and ``:sunglasses:``.\n",
      "      For a list of all supported codes,\n",
      "      see https://share.streamlit.io/streamlit/emoji-shortcodes.\n",
      "\n",
      "    * LaTeX expressions, by wrapping them in \"$\" or \"$$\" (the \"$$\"\n",
      "      must be on their own lines). Supported LaTeX functions are listed\n",
      "      at https://katex.org/docs/supported.html.\n",
      "\n",
      "    * Colored text, using the syntax ``:color[text to be colored]``,\n",
      "      where ``color`` needs to be replaced with any of the following\n",
      "      supported colors: blue, green, orange, red, violet.\n",
      "\n",
      "    For accessibility reasons, you should never set an empty label (label=\"\")\n",
      "    but hide it with label_visibility if needed. In the future, we may disallow\n",
      "    empty labels by raising an exception.\n",
      "options : Sequence[V], numpy.ndarray, pandas.Series, pandas.DataFrame, or pandas.Index\n",
      "    Labels for the select options. This will be cast to str internally\n",
      "    by default. For pandas.DataFrame, the first column is selected.\n",
      "default: [V], V, or None\n",
      "    List of default values. Can also be a single value.\n",
      "format_func : function\n",
      "    Function to modify the display of selectbox options. It receives\n",
      "    the raw option as an argument and should output the label to be\n",
      "    shown for that option. This has no impact on the return value of\n",
      "    the multiselect.\n",
      "key : str or int\n",
      "    An optional string or integer to use as the unique key for the widget.\n",
      "    If this is omitted, a key will be generated for the widget\n",
      "    based on its content. Multiple widgets of the same type may\n",
      "    not share the same key.\n",
      "help : str\n",
      "    An optional tooltip that gets displayed next to the multiselect.\n",
      "on_change : callable\n",
      "    An optional callback invoked when this multiselect's value changes.\n",
      "args : tuple\n",
      "    An optional tuple of args to pass to the callback.\n",
      "kwargs : dict\n",
      "    An optional dict of kwargs to pass to the callback.\n",
      "disabled : bool\n",
      "    An optional boolean, which disables the multiselect widget if set\n",
      "    to True. The default is False. This argument can only be supplied\n",
      "    by keyword.\n",
      "label_visibility : \"visible\" or \"hidden\" or \"collapsed\"\n",
      "    The visibility of the label. If \"hidden\", the label doesn't show but there\n",
      "    is still empty space for it above the widget (equivalent to label=\"\").\n",
      "    If \"collapsed\", both the label and the space are removed. Default is\n",
      "    \"visible\". This argument can only be supplied by keyword.\n",
      "max_selections : int\n",
      "    The max selections that can be selected at a time.\n",
      "    This argument can only be supplied by keyword.\n",
      "\n",
      "Returns\n",
      "-------\n",
      "list\n",
      "    A list with the selected options\n",
      "\n",
      "Example\n",
      "-------\n",
      ">>> options = st.multiselect(\n",
      "...     'What are your favorite colors',\n",
      "...     ['Green', 'Yellow', 'Red', 'Blue'],\n",
      "...     ['Yellow', 'Red'])\n",
      ">>>\n",
      ">>> st.write('You selected:', options)\n",
      "\n",
      ".. output::\n",
      "   https://doc-multiselect.streamlitapp.com/\n",
      "   height: 420px\n",
      "\u001b[0;31mFile:\u001b[0m      ~/.local/share/virtualenvs/streamlit-jupyter-lqlnUict/lib/python3.8/site-packages/streamlit/elements/multiselect.py\n",
      "\u001b[0;31mType:\u001b[0m      method\n"
     ]
    }
   ],
   "source": [
    "# | exporti\n",
    "st.multiselect(\"Multiselect with defaults: \", options=['nbdev', 'streamlit', 'jupyter', 'fastcore'], default=['jupyter', 'streamlit'])"
   ]
  },
  {
   "cell_type": "code",
   "execution_count": null,
   "metadata": {},
   "outputs": [],
   "source": []
  }
 ],
 "metadata": {
  "kernelspec": {
   "display_name": "streamlit-jupyter-lqlnUict",
   "language": "python",
   "name": "python3"
  },
  "language_info": {
   "codemirror_mode": {
    "name": "ipython",
    "version": 3
   },
   "file_extension": ".py",
   "mimetype": "text/x-python",
   "name": "python",
   "nbconvert_exporter": "python",
   "pygments_lexer": "ipython3",
   "version": "3.8.16"
  },
  "orig_nbformat": 4,
  "vscode": {
   "interpreter": {
    "hash": "b6ff95381c780e3419cbc37a2ed3180441888ce6a744f28bbc9e6d385d4b46b2"
   }
  }
 },
 "nbformat": 4,
 "nbformat_minor": 2
}
